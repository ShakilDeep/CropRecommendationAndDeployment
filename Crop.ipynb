{
 "cells": [
  {
   "cell_type": "markdown",
   "source": [
    "## Crop Recommendation System"
   ],
   "metadata": {
    "collapsed": false,
    "pycharm": {
     "name": "#%% md\n"
    }
   }
  },
  {
   "cell_type": "code",
   "execution_count": 1,
   "outputs": [],
   "source": [
    "import pandas as pd\n",
    "import matplotlib.pyplot as plt\n",
    "import seaborn as sns\n",
    "from sklearn.model_selection import train_test_split\n",
    "from sklearn.linear_model import LogisticRegression"
   ],
   "metadata": {
    "collapsed": false,
    "pycharm": {
     "name": "#%%\n"
    }
   }
  },
  {
   "cell_type": "code",
   "execution_count": 2,
   "outputs": [],
   "source": [
    "crop = pd.read_csv('Data/crop_recommendation.csv')"
   ],
   "metadata": {
    "collapsed": false,
    "pycharm": {
     "name": "#%%\n"
    }
   }
  },
  {
   "cell_type": "code",
   "execution_count": 3,
   "outputs": [
    {
     "data": {
      "text/plain": "    N   P   K  temperature   humidity        ph    rainfall label\n0  90  42  43    20.879744  82.002744  6.502985  202.935536  rice\n1  85  58  41    21.770462  80.319644  7.038096  226.655537  rice\n2  60  55  44    23.004459  82.320763  7.840207  263.964248  rice\n3  74  35  40    26.491096  80.158363  6.980401  242.864034  rice\n4  78  42  42    20.130175  81.604873  7.628473  262.717340  rice",
      "text/html": "<div>\n<style scoped>\n    .dataframe tbody tr th:only-of-type {\n        vertical-align: middle;\n    }\n\n    .dataframe tbody tr th {\n        vertical-align: top;\n    }\n\n    .dataframe thead th {\n        text-align: right;\n    }\n</style>\n<table border=\"1\" class=\"dataframe\">\n  <thead>\n    <tr style=\"text-align: right;\">\n      <th></th>\n      <th>N</th>\n      <th>P</th>\n      <th>K</th>\n      <th>temperature</th>\n      <th>humidity</th>\n      <th>ph</th>\n      <th>rainfall</th>\n      <th>label</th>\n    </tr>\n  </thead>\n  <tbody>\n    <tr>\n      <th>0</th>\n      <td>90</td>\n      <td>42</td>\n      <td>43</td>\n      <td>20.879744</td>\n      <td>82.002744</td>\n      <td>6.502985</td>\n      <td>202.935536</td>\n      <td>rice</td>\n    </tr>\n    <tr>\n      <th>1</th>\n      <td>85</td>\n      <td>58</td>\n      <td>41</td>\n      <td>21.770462</td>\n      <td>80.319644</td>\n      <td>7.038096</td>\n      <td>226.655537</td>\n      <td>rice</td>\n    </tr>\n    <tr>\n      <th>2</th>\n      <td>60</td>\n      <td>55</td>\n      <td>44</td>\n      <td>23.004459</td>\n      <td>82.320763</td>\n      <td>7.840207</td>\n      <td>263.964248</td>\n      <td>rice</td>\n    </tr>\n    <tr>\n      <th>3</th>\n      <td>74</td>\n      <td>35</td>\n      <td>40</td>\n      <td>26.491096</td>\n      <td>80.158363</td>\n      <td>6.980401</td>\n      <td>242.864034</td>\n      <td>rice</td>\n    </tr>\n    <tr>\n      <th>4</th>\n      <td>78</td>\n      <td>42</td>\n      <td>42</td>\n      <td>20.130175</td>\n      <td>81.604873</td>\n      <td>7.628473</td>\n      <td>262.717340</td>\n      <td>rice</td>\n    </tr>\n  </tbody>\n</table>\n</div>"
     },
     "execution_count": 3,
     "metadata": {},
     "output_type": "execute_result"
    }
   ],
   "source": [
    "crop.head()"
   ],
   "metadata": {
    "collapsed": false,
    "pycharm": {
     "name": "#%%\n"
    }
   }
  },
  {
   "cell_type": "code",
   "execution_count": 4,
   "outputs": [
    {
     "data": {
      "text/plain": "(2200, 8)"
     },
     "execution_count": 4,
     "metadata": {},
     "output_type": "execute_result"
    }
   ],
   "source": [
    "crop.shape"
   ],
   "metadata": {
    "collapsed": false,
    "pycharm": {
     "name": "#%%\n"
    }
   }
  },
  {
   "cell_type": "code",
   "execution_count": 5,
   "outputs": [
    {
     "data": {
      "text/plain": "                 N            P            K  temperature     humidity  \\\ncount  2200.000000  2200.000000  2200.000000  2200.000000  2200.000000   \nmean     50.551818    53.362727    48.149091    25.616244    71.481779   \nstd      36.917334    32.985883    50.647931     5.063749    22.263812   \nmin       0.000000     5.000000     5.000000     8.825675    14.258040   \n25%      21.000000    28.000000    20.000000    22.769375    60.261953   \n50%      37.000000    51.000000    32.000000    25.598693    80.473146   \n75%      84.250000    68.000000    49.000000    28.561654    89.948771   \nmax     140.000000   145.000000   205.000000    43.675493    99.981876   \n\n                ph     rainfall  \ncount  2200.000000  2200.000000  \nmean      6.469480   103.463655  \nstd       0.773938    54.958389  \nmin       3.504752    20.211267  \n25%       5.971693    64.551686  \n50%       6.425045    94.867624  \n75%       6.923643   124.267508  \nmax       9.935091   298.560117  ",
      "text/html": "<div>\n<style scoped>\n    .dataframe tbody tr th:only-of-type {\n        vertical-align: middle;\n    }\n\n    .dataframe tbody tr th {\n        vertical-align: top;\n    }\n\n    .dataframe thead th {\n        text-align: right;\n    }\n</style>\n<table border=\"1\" class=\"dataframe\">\n  <thead>\n    <tr style=\"text-align: right;\">\n      <th></th>\n      <th>N</th>\n      <th>P</th>\n      <th>K</th>\n      <th>temperature</th>\n      <th>humidity</th>\n      <th>ph</th>\n      <th>rainfall</th>\n    </tr>\n  </thead>\n  <tbody>\n    <tr>\n      <th>count</th>\n      <td>2200.000000</td>\n      <td>2200.000000</td>\n      <td>2200.000000</td>\n      <td>2200.000000</td>\n      <td>2200.000000</td>\n      <td>2200.000000</td>\n      <td>2200.000000</td>\n    </tr>\n    <tr>\n      <th>mean</th>\n      <td>50.551818</td>\n      <td>53.362727</td>\n      <td>48.149091</td>\n      <td>25.616244</td>\n      <td>71.481779</td>\n      <td>6.469480</td>\n      <td>103.463655</td>\n    </tr>\n    <tr>\n      <th>std</th>\n      <td>36.917334</td>\n      <td>32.985883</td>\n      <td>50.647931</td>\n      <td>5.063749</td>\n      <td>22.263812</td>\n      <td>0.773938</td>\n      <td>54.958389</td>\n    </tr>\n    <tr>\n      <th>min</th>\n      <td>0.000000</td>\n      <td>5.000000</td>\n      <td>5.000000</td>\n      <td>8.825675</td>\n      <td>14.258040</td>\n      <td>3.504752</td>\n      <td>20.211267</td>\n    </tr>\n    <tr>\n      <th>25%</th>\n      <td>21.000000</td>\n      <td>28.000000</td>\n      <td>20.000000</td>\n      <td>22.769375</td>\n      <td>60.261953</td>\n      <td>5.971693</td>\n      <td>64.551686</td>\n    </tr>\n    <tr>\n      <th>50%</th>\n      <td>37.000000</td>\n      <td>51.000000</td>\n      <td>32.000000</td>\n      <td>25.598693</td>\n      <td>80.473146</td>\n      <td>6.425045</td>\n      <td>94.867624</td>\n    </tr>\n    <tr>\n      <th>75%</th>\n      <td>84.250000</td>\n      <td>68.000000</td>\n      <td>49.000000</td>\n      <td>28.561654</td>\n      <td>89.948771</td>\n      <td>6.923643</td>\n      <td>124.267508</td>\n    </tr>\n    <tr>\n      <th>max</th>\n      <td>140.000000</td>\n      <td>145.000000</td>\n      <td>205.000000</td>\n      <td>43.675493</td>\n      <td>99.981876</td>\n      <td>9.935091</td>\n      <td>298.560117</td>\n    </tr>\n  </tbody>\n</table>\n</div>"
     },
     "execution_count": 5,
     "metadata": {},
     "output_type": "execute_result"
    }
   ],
   "source": [
    "crop.describe()"
   ],
   "metadata": {
    "collapsed": false,
    "pycharm": {
     "name": "#%%\n"
    }
   }
  },
  {
   "cell_type": "code",
   "execution_count": 6,
   "outputs": [
    {
     "name": "stdout",
     "output_type": "stream",
     "text": [
      "<class 'pandas.core.frame.DataFrame'>\n",
      "RangeIndex: 2200 entries, 0 to 2199\n",
      "Data columns (total 8 columns):\n",
      " #   Column       Non-Null Count  Dtype  \n",
      "---  ------       --------------  -----  \n",
      " 0   N            2200 non-null   int64  \n",
      " 1   P            2200 non-null   int64  \n",
      " 2   K            2200 non-null   int64  \n",
      " 3   temperature  2200 non-null   float64\n",
      " 4   humidity     2200 non-null   float64\n",
      " 5   ph           2200 non-null   float64\n",
      " 6   rainfall     2200 non-null   float64\n",
      " 7   label        2200 non-null   object \n",
      "dtypes: float64(4), int64(3), object(1)\n",
      "memory usage: 137.6+ KB\n"
     ]
    }
   ],
   "source": [
    "crop.info()"
   ],
   "metadata": {
    "collapsed": false,
    "pycharm": {
     "name": "#%%\n"
    }
   }
  },
  {
   "cell_type": "code",
   "execution_count": 7,
   "outputs": [
    {
     "data": {
      "text/plain": "N              0\nP              0\nK              0\ntemperature    0\nhumidity       0\nph             0\nrainfall       0\nlabel          0\ndtype: int64"
     },
     "execution_count": 7,
     "metadata": {},
     "output_type": "execute_result"
    }
   ],
   "source": [
    "crop.isnull().sum()"
   ],
   "metadata": {
    "collapsed": false,
    "pycharm": {
     "name": "#%%\n"
    }
   }
  },
  {
   "cell_type": "code",
   "execution_count": 8,
   "outputs": [
    {
     "data": {
      "text/plain": "pomegranate    100\ncoconut        100\norange         100\ncotton         100\nmango          100\nkidneybeans    100\nchickpea       100\nrice           100\nbanana         100\npapaya         100\npigeonpeas     100\nblackgram      100\nmothbeans      100\nmuskmelon      100\nwatermelon     100\nlentil         100\nmaize          100\nmungbean       100\ngrapes         100\ncoffee         100\njute           100\napple          100\nName: label, dtype: int64"
     },
     "execution_count": 8,
     "metadata": {},
     "output_type": "execute_result"
    }
   ],
   "source": [
    "crop['label'].value_counts()"
   ],
   "metadata": {
    "collapsed": false,
    "pycharm": {
     "name": "#%%\n"
    }
   }
  },
  {
   "cell_type": "code",
   "execution_count": 9,
   "outputs": [
    {
     "data": {
      "text/plain": "<AxesSubplot:>"
     },
     "execution_count": 9,
     "metadata": {},
     "output_type": "execute_result"
    },
    {
     "data": {
      "text/plain": "<Figure size 432x288 with 1 Axes>",
      "image/png": "[encoded data removed]"
     },
     "metadata": {},
     "output_type": "display_data"
    }
   ],
   "source": [
    "crop['label'].value_counts().plot(kind='bar')"
   ],
   "metadata": {
    "collapsed": false,
    "pycharm": {
     "name": "#%%\n"
    }
   }
  },
  {
   "cell_type": "code",
   "execution_count": 10,
   "outputs": [
    {
     "data": {
      "text/plain": "<Figure size 432x288 with 1 Axes>",
      "image/png": "[encoded data removed]"
     },
     "metadata": {},
     "output_type": "display_data"
    }
   ],
   "source": [
    "crop.plot(kind='scatter', x='temperature', y='humidity')\n",
    "plt.show()"
   ],
   "metadata": {
    "collapsed": false,
    "pycharm": {
     "name": "#%%\n"
    }
   }
  },
  {
   "cell_type": "code",
   "execution_count": 11,
   "outputs": [],
   "source": [
    "X = crop.drop('label', axis=1)  # Features\n",
    "y = crop['label']"
   ],
   "metadata": {
    "collapsed": false,
    "pycharm": {
     "name": "#%%\n"
    }
   }
  },
  {
   "cell_type": "code",
   "execution_count": 12,
   "outputs": [],
   "source": [
    "X_train, X_test, y_train, y_test = train_test_split(X, y, test_size=0.20)"
   ],
   "metadata": {
    "collapsed": false,
    "pycharm": {
     "name": "#%%\n"
    }
   }
  },
  {
   "cell_type": "code",
   "execution_count": 13,
   "outputs": [],
   "source": [
    "logmodel = LogisticRegression()"
   ],
   "metadata": {
    "collapsed": false,
    "pycharm": {
     "name": "#%%\n"
    }
   }
  },
  {
   "cell_type": "code",
   "execution_count": 14,
   "outputs": [
    {
     "name": "stderr",
     "output_type": "stream",
     "text": [
      "C:\\Users\\Shakil\\miniconda3\\envs\\learn\\lib\\site-packages\\sklearn\\linear_model\\_logistic.py:765: ConvergenceWarning: lbfgs failed to converge (status=1):\n",
      "STOP: TOTAL NO. of ITERATIONS REACHED LIMIT.\n",
      "\n",
      "Increase the number of iterations (max_iter) or scale the data as shown in:\n",
      "    https://scikit-learn.org/stable/modules/preprocessing.html\n",
      "Please also refer to the documentation for alternative solver options:\n",
      "    https://scikit-learn.org/stable/modules/linear_model.html#logistic-regression\n",
      "  extra_warning_msg=_LOGISTIC_SOLVER_CONVERGENCE_MSG)\n"
     ]
    },
    {
     "data": {
      "text/plain": "LogisticRegression()"
     },
     "execution_count": 14,
     "metadata": {},
     "output_type": "execute_result"
    }
   ],
   "source": [
    "logmodel.fit(X_train, y_train)"
   ],
   "metadata": {
    "collapsed": false,
    "pycharm": {
     "name": "#%%\n"
    }
   }
  },
  {
   "cell_type": "code",
   "execution_count": 15,
   "outputs": [
    {
     "name": "stdout",
     "output_type": "stream",
     "text": [
      "['mungbean' 'mungbean' 'coconut' 'maize' 'maize' 'lentil' 'orange'\n",
      " 'coconut' 'pomegranate' 'banana' 'mothbeans' 'coconut' 'pomegranate'\n",
      " 'mothbeans' 'pomegranate' 'pigeonpeas' 'coffee' 'coffee' 'banana'\n",
      " 'chickpea' 'jute' 'pomegranate' 'mango' 'rice' 'mango' 'mothbeans'\n",
      " 'mungbean' 'watermelon' 'watermelon' 'watermelon' 'maize' 'pigeonpeas'\n",
      " 'jute' 'watermelon' 'coconut' 'apple' 'muskmelon' 'watermelon' 'jute'\n",
      " 'blackgram' 'pomegranate' 'kidneybeans' 'rice' 'banana' 'mango'\n",
      " 'pomegranate' 'maize' 'grapes' 'maize' 'watermelon' 'chickpea' 'cotton'\n",
      " 'coconut' 'muskmelon' 'muskmelon' 'grapes' 'pomegranate' 'coffee'\n",
      " 'banana' 'coconut' 'mango' 'cotton' 'mothbeans' 'coconut' 'banana'\n",
      " 'orange' 'mothbeans' 'mungbean' 'apple' 'mothbeans' 'blackgram' 'lentil'\n",
      " 'watermelon' 'apple' 'maize' 'coconut' 'banana' 'watermelon' 'mothbeans'\n",
      " 'banana' 'orange' 'kidneybeans' 'pomegranate' 'mungbean' 'maize'\n",
      " 'kidneybeans' 'mango' 'coconut' 'pomegranate' 'banana' 'lentil'\n",
      " 'chickpea' 'kidneybeans' 'coffee' 'banana' 'kidneybeans' 'pigeonpeas'\n",
      " 'lentil' 'pigeonpeas' 'cotton' 'blackgram' 'blackgram' 'muskmelon'\n",
      " 'orange' 'pomegranate' 'lentil' 'papaya' 'blackgram' 'mothbeans' 'papaya'\n",
      " 'mango' 'rice' 'rice' 'papaya' 'orange' 'chickpea' 'watermelon' 'papaya'\n",
      " 'apple' 'grapes' 'chickpea' 'chickpea' 'pomegranate' 'mango' 'mungbean'\n",
      " 'rice' 'grapes' 'pomegranate' 'watermelon' 'banana' 'kidneybeans'\n",
      " 'muskmelon' 'lentil' 'maize' 'jute' 'chickpea' 'lentil' 'cotton' 'banana'\n",
      " 'apple' 'coconut' 'lentil' 'grapes' 'jute' 'muskmelon' 'kidneybeans'\n",
      " 'cotton' 'cotton' 'rice' 'kidneybeans' 'lentil' 'mungbean' 'mungbean'\n",
      " 'rice' 'grapes' 'apple' 'lentil' 'mango' 'mango' 'muskmelon' 'rice'\n",
      " 'rice' 'jute' 'papaya' 'mango' 'rice' 'pigeonpeas' 'pomegranate'\n",
      " 'pigeonpeas' 'muskmelon' 'muskmelon' 'banana' 'maize' 'muskmelon'\n",
      " 'pigeonpeas' 'grapes' 'kidneybeans' 'mango' 'watermelon' 'maize' 'apple'\n",
      " 'jute' 'jute' 'apple' 'jute' 'muskmelon' 'pigeonpeas' 'lentil' 'orange'\n",
      " 'jute' 'apple' 'apple' 'apple' 'banana' 'chickpea' 'papaya' 'pomegranate'\n",
      " 'watermelon' 'orange' 'coffee' 'rice' 'pomegranate' 'jute' 'chickpea'\n",
      " 'mango' 'pigeonpeas' 'maize' 'pomegranate' 'chickpea' 'coconut' 'rice'\n",
      " 'blackgram' 'pomegranate' 'mungbean' 'chickpea' 'pomegranate' 'papaya'\n",
      " 'mothbeans' 'pomegranate' 'lentil' 'rice' 'rice' 'rice' 'mothbeans'\n",
      " 'blackgram' 'blackgram' 'mungbean' 'pigeonpeas' 'lentil' 'jute' 'cotton'\n",
      " 'papaya' 'grapes' 'watermelon' 'mango' 'mungbean' 'coconut' 'blackgram'\n",
      " 'jute' 'grapes' 'rice' 'mungbean' 'papaya' 'mango' 'maize' 'mothbeans'\n",
      " 'maize' 'watermelon' 'mothbeans' 'banana' 'mango' 'blackgram' 'cotton'\n",
      " 'papaya' 'coffee' 'mungbean' 'coffee' 'coffee' 'coconut' 'rice' 'grapes'\n",
      " 'chickpea' 'blackgram' 'coconut' 'mothbeans' 'chickpea' 'kidneybeans'\n",
      " 'kidneybeans' 'watermelon' 'jute' 'coffee' 'watermelon' 'grapes'\n",
      " 'chickpea' 'apple' 'watermelon' 'coffee' 'rice' 'watermelon' 'papaya'\n",
      " 'muskmelon' 'coffee' 'papaya' 'orange' 'mungbean' 'apple' 'coffee'\n",
      " 'pomegranate' 'apple' 'lentil' 'maize' 'blackgram' 'orange' 'blackgram'\n",
      " 'coconut' 'coconut' 'mothbeans' 'lentil' 'papaya' 'papaya' 'pigeonpeas'\n",
      " 'cotton' 'banana' 'blackgram' 'papaya' 'papaya' 'orange' 'coconut'\n",
      " 'mungbean' 'maize' 'watermelon' 'apple' 'cotton' 'mango' 'cotton'\n",
      " 'coconut' 'papaya' 'grapes' 'kidneybeans' 'papaya' 'cotton' 'mungbean'\n",
      " 'jute' 'pomegranate' 'papaya' 'rice' 'orange' 'mango' 'mothbeans' 'rice'\n",
      " 'grapes' 'muskmelon' 'mungbean' 'jute' 'pigeonpeas' 'coffee' 'grapes'\n",
      " 'papaya' 'papaya' 'jute' 'mungbean' 'jute' 'mango' 'mungbean' 'mungbean'\n",
      " 'papaya' 'orange' 'lentil' 'cotton' 'coconut' 'grapes' 'mungbean'\n",
      " 'blackgram' 'banana' 'rice' 'mothbeans' 'pigeonpeas' 'cotton'\n",
      " 'pomegranate' 'pomegranate' 'grapes' 'mango' 'mungbean' 'orange' 'grapes'\n",
      " 'chickpea' 'orange' 'chickpea' 'coconut' 'jute' 'blackgram' 'cotton'\n",
      " 'jute' 'pomegranate' 'coconut' 'orange' 'muskmelon' 'lentil'\n",
      " 'kidneybeans' 'maize' 'kidneybeans' 'mungbean' 'kidneybeans' 'blackgram'\n",
      " 'mothbeans' 'muskmelon' 'lentil' 'kidneybeans' 'mothbeans' 'cotton'\n",
      " 'blackgram' 'cotton' 'rice' 'mango' 'papaya' 'jute' 'blackgram' 'maize'\n",
      " 'grapes' 'muskmelon' 'mango' 'jute' 'jute' 'blackgram' 'mungbean'\n",
      " 'watermelon' 'pomegranate' 'watermelon' 'maize' 'mungbean' 'papaya'\n",
      " 'mothbeans' 'banana' 'apple' 'mothbeans' 'pigeonpeas' 'kidneybeans'\n",
      " 'mothbeans' 'pigeonpeas' 'jute' 'coconut' 'mango' 'papaya' 'chickpea'\n",
      " 'mango' 'watermelon' 'maize' 'chickpea' 'rice' 'orange' 'cotton' 'maize'\n",
      " 'papaya' 'blackgram' 'apple' 'pigeonpeas' 'kidneybeans' 'banana' 'banana'\n",
      " 'lentil']\n"
     ]
    }
   ],
   "source": [
    "predictions = logmodel.predict(X_test)\n",
    "print(predictions)"
   ],
   "metadata": {
    "collapsed": false,
    "pycharm": {
     "name": "#%%\n"
    }
   }
  },
  {
   "cell_type": "code",
   "execution_count": 16,
   "outputs": [
    {
     "name": "stderr",
     "output_type": "stream",
     "text": [
      "C:\\Users\\Shakil\\miniconda3\\envs\\learn\\lib\\site-packages\\sklearn\\linear_model\\_logistic.py:765: ConvergenceWarning: lbfgs failed to converge (status=1):\n",
      "STOP: TOTAL NO. of ITERATIONS REACHED LIMIT.\n",
      "\n",
      "Increase the number of iterations (max_iter) or scale the data as shown in:\n",
      "    https://scikit-learn.org/stable/modules/preprocessing.html\n",
      "Please also refer to the documentation for alternative solver options:\n",
      "    https://scikit-learn.org/stable/modules/linear_model.html#logistic-regression\n",
      "  extra_warning_msg=_LOGISTIC_SOLVER_CONVERGENCE_MSG)\n"
     ]
    },
    {
     "data": {
      "text/plain": "LogisticRegression()"
     },
     "execution_count": 16,
     "metadata": {},
     "output_type": "execute_result"
    }
   ],
   "source": [
    "model = LogisticRegression()\n",
    "model.fit(X_train, y_train)"
   ],
   "metadata": {
    "collapsed": false,
    "pycharm": {
     "name": "#%%\n"
    }
   }
  },
  {
   "cell_type": "code",
   "execution_count": 17,
   "outputs": [],
   "source": [
    "new_data = pd.DataFrame({\n",
    "    'N': [70],\n",
    "    'P': [40],\n",
    "    'K': [30],\n",
    "    'temperature': [22],\n",
    "    'humidity': [85],\n",
    "    'ph': [6.5],\n",
    "    'rainfall': [200]\n",
    "})"
   ],
   "metadata": {
    "collapsed": false,
    "pycharm": {
     "name": "#%%\n"
    }
   }
  },
  {
   "cell_type": "code",
   "execution_count": 18,
   "outputs": [
    {
     "name": "stdout",
     "output_type": "stream",
     "text": [
      "Predicted crop: ['rice']\n"
     ]
    }
   ],
   "source": [
    "prediction = model.predict(new_data)\n",
    "print(\"Predicted crop:\", prediction)"
   ],
   "metadata": {
    "collapsed": false,
    "pycharm": {
     "name": "#%%\n"
    }
   }
  },
  {
   "cell_type": "code",
   "execution_count": 19,
   "outputs": [
    {
     "name": "stdout",
     "output_type": "stream",
     "text": [
      "Predicted Crop: Rice\n",
      "\n",
      "Predicted Probabilities:\n",
      "Rice: 97.73%\n",
      "Jute: 2.27%\n",
      "Coconut: 0.00%\n",
      "Papaya: 0.00%\n",
      "Coffee: 0.00%\n",
      "Orange: 0.00%\n",
      "Pigeonpeas: 0.00%\n",
      "Maize: 0.00%\n",
      "Pomegranate: 0.00%\n",
      "Mango: 0.00%\n",
      "Banana: 0.00%\n",
      "Cotton: 0.00%\n",
      "Blackgram: 0.00%\n",
      "Mothbeans: 0.00%\n",
      "Mungbean: 0.00%\n",
      "Lentil: 0.00%\n",
      "Chickpea: 0.00%\n",
      "Kidneybeans: 0.00%\n",
      "Watermelon: 0.00%\n",
      "Apple: 0.00%\n",
      "Muskmelon: 0.00%\n",
      "Grapes: 0.00%\n"
     ]
    }
   ],
   "source": [
    "# Make the prediction\n",
    "prediction = model.predict(new_data)\n",
    "\n",
    "# Get the predicted crop label\n",
    "predicted_crop = prediction[0]  # Assuming the predicted crop label is the first element of the prediction array\n",
    "\n",
    "# Print the predicted crop label\n",
    "print(\"Predicted Crop:\", predicted_crop.capitalize())\n",
    "\n",
    "# Get the predicted probabilities for each crop class\n",
    "predicted_probabilities = model.predict_proba(new_data)\n",
    "\n",
    "# Create a dictionary to map crop labels to predicted probabilities\n",
    "crop_probabilities = {crop_label.capitalize(): probability for crop_label, probability in zip(model.classes_, predicted_probabilities[0])}\n",
    "\n",
    "# Sort the crop probabilities in descending order\n",
    "sorted_probabilities = sorted(crop_probabilities.items(), key=lambda x: x[1], reverse=True)\n",
    "\n",
    "# Print the predicted probabilities for each crop class\n",
    "print(\"\\nPredicted Probabilities:\")\n",
    "for crop_label, probability in sorted_probabilities:\n",
    "    print(f\"{crop_label}: {probability:.2%}\")"
   ],
   "metadata": {
    "collapsed": false,
    "pycharm": {
     "name": "#%%\n"
    }
   }
  },
  {
   "cell_type": "code",
   "execution_count": 20,
   "outputs": [],
   "source": [
    "# save the model to disk using pickle\n",
    "import pickle\n",
    "filename = 'finalized_model.sav'\n",
    "pickle.dump(model, open(filename, 'wb'))"
   ],
   "metadata": {
    "collapsed": false,
    "pycharm": {
     "name": "#%%\n"
    }
   }
  }
 ],
 "metadata": {
  "kernelspec": {
   "display_name": "Python 3",
   "language": "python",
   "name": "python3"
  },
  "language_info": {
   "codemirror_mode": {
    "name": "ipython",
    "version": 2
   },
   "file_extension": ".py",
   "mimetype": "text/x-python",
   "name": "python",
   "nbconvert_exporter": "python",
   "pygments_lexer": "ipython2",
   "version": "2.7.6"
  }
 },
 "nbformat": 4,
 "nbformat_minor": 0
}